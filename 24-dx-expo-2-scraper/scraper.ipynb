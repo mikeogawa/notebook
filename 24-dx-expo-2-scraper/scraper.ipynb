{
 "cells": [
  {
   "cell_type": "code",
   "execution_count": 1,
   "metadata": {},
   "outputs": [],
   "source": [
    "import os\n",
    "from playwright.async_api import async_playwright\n",
    "import pandas as pd\n",
    "\n",
    "RESULT_CSV = \"result.csv\"\n",
    "COLUMNS = [\"title\",\"desc\",\"category\", \"website\", \"email\", \"tel\"]\n",
    "URL = 'https://www.office-expo.jp/tokyo-2/ja-jp/search/2024/directory.html?refinementList%5B0%5D%5B0%5D=sponsoredCategory.id%3A836631&refinementList%5B0%5D%5B1%5D=sponsoredCategory.id%3A836635&refinementList%5B0%5D%5B2%5D=sponsoredCategory.id%3A836637&refinementList%5B0%5D%5B3%5D=sponsoredCategory.id%3A836631&refinementList%5B0%5D%5B4%5D=sponsoredCategory.id%3A836635&refinementList%5B0%5D%5B5%5D=sponsoredCategory.id%3A836631&refinementList%5B0%5D%5B6%5D=exhibitorFilters.%E5%B1%95%E7%A4%BA%E4%BC%9A.lvl0%3Aid-836631&refinementList%5B0%5D%5B7%5D=exhibitorFilters.%E5%B1%95%E7%A4%BA%E4%BC%9A.lvl0%3Aid-836635&refinementList%5B0%5D%5B8%5D=exhibitorFilters.%E5%B1%95%E7%A4%BA%E4%BC%9A.lvl0%3Aid-836637'\n",
    "\n",
    "\n",
    "\n"
   ]
  },
  {
   "cell_type": "code",
   "execution_count": 2,
   "metadata": {},
   "outputs": [],
   "source": [
    "def add_to_result_csv(data: list[dict[str, str]]):\n",
    "    if not os.path.exists(RESULT_CSV):\n",
    "        dirname = os.path.dirname(RESULT_CSV)\n",
    "        if dirname:\n",
    "            os.makedirs(os.path.dirname(RESULT_CSV), exist_ok=True)\n",
    "        pd.DataFrame(columns=COLUMNS).to_csv(RESULT_CSV, index=False)\n",
    "    \n",
    "    df = pd.read_csv(RESULT_CSV)\n",
    "    pd.concat([df, pd.DataFrame(data)]).to_csv(RESULT_CSV, index=False)\n"
   ]
  },
  {
   "cell_type": "code",
   "execution_count": 3,
   "metadata": {},
   "outputs": [
    {
     "data": {
      "text/plain": [
       "<Response url='https://www.office-expo.jp/tokyo-2/ja-jp/search/2024/directory.html?refinementList%5B0%5D%5B0%5D=sponsoredCategory.id%3A836631&refinementList%5B0%5D%5B1%5D=sponsoredCategory.id%3A836635&refinementList%5B0%5D%5B2%5D=sponsoredCategory.id%3A836637&refinementList%5B0%5D%5B3%5D=sponsoredCategory.id%3A836631&refinementList%5B0%5D%5B4%5D=sponsoredCategory.id%3A836635&refinementList%5B0%5D%5B5%5D=sponsoredCategory.id%3A836631&refinementList%5B0%5D%5B6%5D=exhibitorFilters.%E5%B1%95%E7%A4%BA%E4%BC%9A.lvl0%3Aid-836631&refinementList%5B0%5D%5B7%5D=exhibitorFilters.%E5%B1%95%E7%A4%BA%E4%BC%9A.lvl0%3Aid-836635&refinementList%5B0%5D%5B8%5D=exhibitorFilters.%E5%B1%95%E7%A4%BA%E4%BC%9A.lvl0%3Aid-836637' request=<Request url='https://www.office-expo.jp/tokyo-2/ja-jp/search/2024/directory.html?refinementList%5B0%5D%5B0%5D=sponsoredCategory.id%3A836631&refinementList%5B0%5D%5B1%5D=sponsoredCategory.id%3A836635&refinementList%5B0%5D%5B2%5D=sponsoredCategory.id%3A836637&refinementList%5B0%5D%5B3%5D=sponsoredCategory.id%3A836631&refinementList%5B0%5D%5B4%5D=sponsoredCategory.id%3A836635&refinementList%5B0%5D%5B5%5D=sponsoredCategory.id%3A836631&refinementList%5B0%5D%5B6%5D=exhibitorFilters.%E5%B1%95%E7%A4%BA%E4%BC%9A.lvl0%3Aid-836631&refinementList%5B0%5D%5B7%5D=exhibitorFilters.%E5%B1%95%E7%A4%BA%E4%BC%9A.lvl0%3Aid-836635&refinementList%5B0%5D%5B8%5D=exhibitorFilters.%E5%B1%95%E7%A4%BA%E4%BC%9A.lvl0%3Aid-836637' method='GET'>>"
      ]
     },
     "execution_count": 3,
     "metadata": {},
     "output_type": "execute_result"
    }
   ],
   "source": [
    "\n",
    "playwright = await async_playwright().start()\n",
    "\n",
    "browser = await playwright.chromium.launch()\n",
    "browser_context = await browser.new_context()\n",
    "page = await browser_context.new_page()\n",
    "await page.goto(URL)"
   ]
  },
  {
   "cell_type": "code",
   "execution_count": 9,
   "metadata": {},
   "outputs": [
    {
     "name": "stdout",
     "output_type": "stream",
     "text": [
      "https://hcm-jinjer.com/\n",
      "https://www.teamspirit.com/\n",
      "https://www.u-can.co.jp/houjin/\n",
      "https://www.pfa.or.jp/\n",
      "https://kitera-cloud.jp/\n",
      "https://sys-evo.co.jp/\n",
      "https://hybridbpo-syspro.net/\n",
      "https://job-us.exwork.jp/\n",
      "https://gvatech.co.jp/\n",
      "https://newspicks.com/\n",
      "https://himanager.me/\n",
      "https://five-vai.com/\n",
      "https://findy-code.io/enterprise-service/\n"
     ]
    }
   ],
   "source": [
    "cards = await page.locator(\".directory-item-feature-toggled.exhibitor-category\").all()\n",
    "res = []\n",
    "for i, card in enumerate(cards):\n",
    "    title = (await card.locator(\"h3\").inner_text()) if (await card.locator(\"h3\").all()) else \"\"\n",
    "    desc = (await card.locator(\".exhibitor-info\").inner_text()) if (await card.locator(\".exhibitor-info\").all()) else \"\"\n",
    "    tags = (await card.locator(\".pps-tags\").inner_text()) if (await card.locator(\".pps-tags\").all()) else \"\"\n",
    "    el = {\n",
    "        \"title\": title,\n",
    "        \"desc\": desc,\n",
    "        \"category\": tags,\n",
    "        \"website\": \"\",\n",
    "        \"email\": \"\",\n",
    "        \"tel\": \"\"\n",
    "    }\n",
    "    contacts = await card.locator(\"a.contact-option\").all()\n",
    "    for contact in contacts:\n",
    "        text = (await contact.inner_text())\n",
    "        if \"ウェブサイト\" in text:\n",
    "            el[\"website\"] = (await contact.get_attribute(\"href\"))\n",
    "        if \"メール\" in text:\n",
    "            el[\"email\"] = (await contact.get_attribute(\"href\"))\n",
    "        if \"電話\" in text:\n",
    "            el[\"tel\"] = (await contact.get_attribute(\"href\"))\n",
    "    res.append(el)\n",
    "    \n",
    "    if len(res) > 10:\n",
    "        add_to_result_csv(res)\n",
    "        res = []\n",
    "\n",
    "add_to_result_csv(res)\n"
   ]
  },
  {
   "cell_type": "code",
   "execution_count": null,
   "metadata": {},
   "outputs": [],
   "source": []
  },
  {
   "cell_type": "code",
   "execution_count": null,
   "metadata": {},
   "outputs": [],
   "source": [
    "await browser.close()\n",
    "await playwright.stop()"
   ]
  }
 ],
 "metadata": {
  "kernelspec": {
   "display_name": "Python 3",
   "language": "python",
   "name": "python3"
  },
  "language_info": {
   "codemirror_mode": {
    "name": "ipython",
    "version": 3
   },
   "file_extension": ".py",
   "mimetype": "text/x-python",
   "name": "python",
   "nbconvert_exporter": "python",
   "pygments_lexer": "ipython3",
   "version": "3.11.5"
  }
 },
 "nbformat": 4,
 "nbformat_minor": 2
}
