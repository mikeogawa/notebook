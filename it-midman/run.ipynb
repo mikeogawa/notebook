{
 "cells": [
  {
   "cell_type": "code",
   "execution_count": 1,
   "metadata": {},
   "outputs": [],
   "source": [
    "import re\n",
    "from playwright.async_api import Playwright, async_playwright\n",
    "\n",
    "\n",
    "playwright = await async_playwright().start()\n",
    "browser = await playwright.chromium.launch(headless=False)\n",
    "context = await browser.new_context()\n",
    "\n"
   ]
  },
  {
   "cell_type": "code",
   "execution_count": 2,
   "metadata": {},
   "outputs": [
    {
     "data": {
      "text/plain": [
       "<Response url='https://comperu.jp/library/business-matchingsite/' request=<Request url='https://comperu.jp/library/business-matchingsite/' method='GET'>>"
      ]
     },
     "execution_count": 2,
     "metadata": {},
     "output_type": "execute_result"
    }
   ],
   "source": [
    "page = await context.new_page()\n",
    "await page.goto(\"https://comperu.jp/library/business-matchingsite/\")"
   ]
  },
  {
   "cell_type": "code",
   "execution_count": 6,
   "metadata": {},
   "outputs": [],
   "source": [
    "h3s = (await page.locator(\"h3\").all())[:20]\n",
    "header_inner_text_list = []\n",
    "for h3 in h3s:\n",
    "    header_inner_text = await h3.inner_text()\n",
    "    header_inner_text_list.append(header_inner_text)\n",
    "\n",
    "tables = (await page.locator(\"table\").filter(has_text=\"料金プラン\").all())[:20]\n",
    "table_inner_text_list = []\n",
    "for table in tables:\n",
    "    table_inner_text = await table.inner_text()\n",
    "    table_inner_text_list.append(table_inner_text)"
   ]
  },
  {
   "cell_type": "code",
   "execution_count": 8,
   "metadata": {},
   "outputs": [
    {
     "data": {
      "text/plain": [
       "['１．コンペル', '２．アイミツ', '３．比較ビズ']"
      ]
     },
     "execution_count": 8,
     "metadata": {},
     "output_type": "execute_result"
    }
   ],
   "source": [
    "header_inner_text_list[:3]"
   ]
  },
  {
   "cell_type": "code",
   "execution_count": 9,
   "metadata": {},
   "outputs": [
    {
     "data": {
      "text/plain": [
       "['料金プラン\\tリード紹介料：１件 12,000円\\n月額掲載料：10,000円\\n※登録カテゴリーによって変わるため、お問い合わせください\\n契約期間\\t６ヶ月ごとの自動更新\\n運営会社\\t株式会社ジャパンプ',\n",
       " '料金プラン\\t月額費用：30,000円〜100,000円\\u3000※業界により変動\\n成功報酬：5〜10％\\n登録社数\\t1,000社超え\\n実績\\t毎月3,000件以上\\n運営会社\\tPRONI株式会社',\n",
       " '料金プラン\\t初期費用：50,000円\\n月額費用：15,000円\\n契約期間\\t３ヶ月\\n登録社数\\t約58,000社\\n実績\\t約65,000件の利用者数\\n運営会社\\t株式会社ワンズマインド']"
      ]
     },
     "execution_count": 9,
     "metadata": {},
     "output_type": "execute_result"
    }
   ],
   "source": [
    "table_inner_text_list[:3]"
   ]
  },
  {
   "cell_type": "code",
   "execution_count": 10,
   "metadata": {},
   "outputs": [
    {
     "name": "stdout",
     "output_type": "stream",
     "text": [
      "１．コンペル\n",
      "料金プラン\tリード紹介料：１件 12,000円\n",
      "月額掲載料：10,000円\n",
      "※登録カテゴリーによって変わるため、お問い合わせください\n",
      "契約期間\t６ヶ月ごとの自動更新\n",
      "運営会社\t株式会社ジャパンプ\n",
      "２．アイミツ\n",
      "料金プラン\t月額費用：30,000円〜100,000円　※業界により変動\n",
      "成功報酬：5〜10％\n",
      "登録社数\t1,000社超え\n",
      "実績\t毎月3,000件以上\n",
      "運営会社\tPRONI株式会社\n",
      "３．比較ビズ\n",
      "料金プラン\t初期費用：50,000円\n",
      "月額費用：15,000円\n",
      "契約期間\t３ヶ月\n",
      "登録社数\t約58,000社\n",
      "実績\t約65,000件の利用者数\n",
      "運営会社\t株式会社ワンズマインド\n",
      "４．発注ナビ\n",
      "料金プラン\tカテゴリによって料金が変化、月額固定かリード課金か選択\n",
      "月額固定の場合： 50,000円〜100,000円\n",
      "リード課金の場合：20,000〜90,000円\n",
      "契約期間\t６ヶ月ごとの自動更新\n",
      "登録社数\t2,400社\n",
      "実績\t10,400案件\n",
      "運営会社\t発注ナビ株式会社\n",
      "５．ボクシルSaaS\n",
      "料金プラン\t月額費用：50,000円\n",
      "リード料：12,000円\n",
      "契約期間\t１年間\n",
      "登録社数\t3,000社以上\n",
      "実績\t月間発生リード社数　30,000件以上\n",
      "運営会社\tスマートキャンプ株式会社\n",
      "６．チラCEO（オンリーストーリー）\n",
      "料金プラン\t３ヶ月プラン：初期費用20万円＋月額費用20万円\n",
      "６ヶ月プラン：初期費用10万円＋月額費用18万円\n",
      "12ヶ月プラン：初期費用無料＋月額費用15万円\n",
      "契約期間\t3・6・12ヶ月プランの中から選択\n",
      "登録社数\t2,500社（つながりのある経営者数）\n",
      "実績\t8,000件（年間で創出した経営者マッチング数）\n",
      "運営会社\t株式会社オンリーストーリー\n",
      "７．一括.jp\n",
      "料金プラン\tリード紹介料金のみ　5,000円\n",
      "登録社数\t1,000社\n",
      "実績\t10万件（年間問合せ件数）\n",
      "運営会社\t株式会社 eclore（エクロール）\n",
      "８．ITトレンド\n",
      "料金プラン\t初期費用：30,000円\n",
      "リード料：10,000円\n",
      "登録社数\t約400社　1900製品以上\n",
      "実績\t月間PV数：457,000　月間UU数：200,000\n",
      "運営会社\t株式会社Innovation & Co.\n",
      "９．EMEAO！（エミーオ）\n",
      "料金プラン\t初期費用：50,000円\n",
      "リード料：要お問合せ\n",
      "運営会社\t株式会社 eclore（エクロール）\n",
      "10．メディアレーダー\n",
      "料金プラン\tリード料：2,000円　※通常プランの金額、無料プランも有り\n",
      "契約期間\t基本は１年間だが縛りは無し\n",
      "登録社数\t2,000社以上\n",
      "実績\t月間ダウンロード数：15,000件前後\n",
      "運営会社\t株式会社アイズ\n",
      "11．お問合せポータル\n",
      "料金プラン\t初期費用：12万円\n",
      "月額費用：6万〜9万円　※４つのプランから選択\n",
      "契約期間\t12ヶ月\n",
      "運営会社\tリトライブ株式会社\n",
      "12．Ready Crew（レディくる）\n",
      "料金プラン\t要お問合せ\n",
      "実績\t導入企業数350社以上\n",
      "運営会社\tリンカーズ株式会社\n",
      "13．リカイゼン\n",
      "料金プラン\tスタンダードサービス：無料\n",
      "Biz-Create Sales Pro：月額費用55,000円（初月無料）\n",
      "プレミアムサービス：商談成約時に手数料が発生\n",
      "登録社数\t約16,000社\n",
      "実績\t月間商談件数約1,000社\n",
      "運営会社\t株式会社三井住友銀行/日本電気株式会社\n",
      "14．Linkers（リンカーズ）\n",
      "料金プラン\t案件ごとに単価が異なる\n",
      "登録社数\t30,574社（2024年９月現在）\n",
      "実績\t掲載案件数：12,976件（2024年９月現在）\n",
      "運営会社\t株式会社コントラフト\n",
      "15．Biz-Create（ビズクリエイト）\n",
      "料金プラン\t登録・利用、ともに無料\n",
      "登録社数\t約35,000社\n",
      "契約期間\t６カ月ごとの更新\n",
      "運営会社\t独立行政法人　中小企業基盤整備機構\n",
      "16．請負市場（UKEOI ICHIBA）\n",
      "料金プラン\tフリープラン：無料\n",
      "受信制限解除プラン：月額費用3,000円（税抜き）\n",
      "エントリープラン：月額費用45,000円（税抜き）\n",
      "コンサルティングプラン：月額費用10万円（税抜き）\n",
      "プロフェッショナルプラン：月額費用30万円（税抜き）\n",
      "登録社数\t32,000社以上\n",
      "実績\t累計共創事例数：1,700社以上\n",
      "運営会社\t株式会社eiicon\n",
      "17．J-GoodTech（ジェグテック）\n",
      "料金プラン\t発注側：無料\n",
      "受注側：要問合せ\n",
      "登録社数\t5,000社以上\n",
      "実績\t相談件数：月間400件以上\n",
      "運営会社\t株式会社ユーティル\n",
      "18．AUBA（アウバ）\n",
      "料金プラン\t完全無料\n",
      "登録社数\t20万社以上\n",
      "実績\t累計マッチング数：40万組以上\n",
      "運営会社\tWizBiz株式会社\n"
     ]
    }
   ],
   "source": [
    "res = []\n",
    "for header_inner_text, table_inner_text in zip(header_inner_text_list, table_inner_text_list):\n",
    "    print(header_inner_text)\n",
    "    print(table_inner_text)\n",
    "    res.append(\"\".join(map(lambda x: f\"{x}\\n\", [header_inner_text, table_inner_text])))\n",
    "\n",
    "with open(\"output.txt\", \"w\") as f:\n",
    "    f.write(\"\\n\".join(res))\n"
   ]
  },
  {
   "cell_type": "code",
   "execution_count": 12,
   "metadata": {},
   "outputs": [],
   "source": [
    "await context.close()\n",
    "await browser.close()\n",
    "await playwright.stop()"
   ]
  },
  {
   "cell_type": "code",
   "execution_count": null,
   "metadata": {},
   "outputs": [],
   "source": []
  }
 ],
 "metadata": {
  "kernelspec": {
   "display_name": "Python 3",
   "language": "python",
   "name": "python3"
  },
  "language_info": {
   "codemirror_mode": {
    "name": "ipython",
    "version": 3
   },
   "file_extension": ".py",
   "mimetype": "text/x-python",
   "name": "python",
   "nbconvert_exporter": "python",
   "pygments_lexer": "ipython3",
   "version": "3.11.5"
  }
 },
 "nbformat": 4,
 "nbformat_minor": 2
}
